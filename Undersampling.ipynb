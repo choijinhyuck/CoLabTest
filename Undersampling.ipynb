{
  "nbformat": 4,
  "nbformat_minor": 0,
  "metadata": {
    "colab": {
      "provenance": [],
      "authorship_tag": "ABX9TyMyi+6ycZDPmwP7s1i6FYHQ",
      "include_colab_link": true
    },
    "kernelspec": {
      "name": "python3",
      "display_name": "Python 3"
    },
    "language_info": {
      "name": "python"
    }
  },
  "cells": [
    {
      "cell_type": "markdown",
      "metadata": {
        "id": "view-in-github",
        "colab_type": "text"
      },
      "source": [
        "<a href=\"https://colab.research.google.com/github/choijinhyuck/CoLabTest/blob/main/Undersampling.ipynb\" target=\"_parent\"><img src=\"https://colab.research.google.com/assets/colab-badge.svg\" alt=\"Open In Colab\"/></a>"
      ]
    },
    {
      "cell_type": "code",
      "execution_count": 1,
      "metadata": {
        "colab": {
          "base_uri": "https://localhost:8080/"
        },
        "id": "CYZj-92hbMUN",
        "outputId": "648411b9-d80b-4a9b-f3f5-2c8063b85836"
      },
      "outputs": [
        {
          "output_type": "stream",
          "name": "stdout",
          "text": [
            "Counter({0: 1900, 1: 100})\n"
          ]
        }
      ],
      "source": [
        "import numpy as np\n",
        "import pandas as pd\n",
        "from sklearn.datasets import make_classification # 가상의 분류 데이터 생성\n",
        "from collections import Counter\n",
        "from imblearn.under_sampling import RandomUnderSampler\n",
        "x, y = make_classification(n_samples = 2000, n_features=6, weights=[0.95], flip_y=0) # flip_y 는 변동; 노이즈\n",
        "print(Counter(y))"
      ]
    },
    {
      "cell_type": "code",
      "source": [
        "undersample = RandomUnderSampler(sampling_strategy='majority') # 다수 레이블 데이터를 소수 레이블 데이터 수와 동일하게 줄임\n",
        "x_under, y_under = undersample.fit_resample(x, y)\n",
        "\n",
        "print(Counter(y_under))"
      ],
      "metadata": {
        "colab": {
          "base_uri": "https://localhost:8080/"
        },
        "id": "tQtPcP3lc51x",
        "outputId": "74bddd95-d1e1-4819-ea77-3ad4553e94bc"
      },
      "execution_count": 2,
      "outputs": [
        {
          "output_type": "stream",
          "name": "stdout",
          "text": [
            "Counter({0: 100, 1: 100})\n"
          ]
        }
      ]
    },
    {
      "cell_type": "code",
      "source": [
        "undersample = RandomUnderSampler(sampling_strategy=0.5) # 다수와 소수 레이블의 비율을 설정\n",
        "x_under2, y_under2 = undersample.fit_resample(x, y)\n",
        "\n",
        "print(Counter(y_under2))"
      ],
      "metadata": {
        "colab": {
          "base_uri": "https://localhost:8080/"
        },
        "id": "Zoz3G73TeJgb",
        "outputId": "0a01d158-d1b5-46e2-9516-d6db1660bf3e"
      },
      "execution_count": 3,
      "outputs": [
        {
          "output_type": "stream",
          "name": "stdout",
          "text": [
            "Counter({0: 200, 1: 100})\n"
          ]
        }
      ]
    }
  ]
}